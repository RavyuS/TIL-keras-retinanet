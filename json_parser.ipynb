{
 "cells": [
  {
   "cell_type": "code",
   "execution_count": 1,
   "metadata": {
    "tags": [
     "outputPrepend"
    ]
   },
   "outputs": [],
   "source": [
    "import pandas as pd\n",
    "import json\n",
    "from pathlib import Path\n",
    "import numpy as np\n",
    "import csv\n",
    "\n",
    "train_json_path = Path('../data/train.json')\n",
    "train_json = json.load(train_json_path.open())\n",
    "\n",
    "\n",
    "# train_data.head()\n",
    "\n",
    "train_data_prearranged = pd.read_json(json.dumps(train_json['annotations']))\n",
    "\n",
    "# train_data_prearranged.sort_values('image_id',inplace=True, ignore_index=True)\n",
    "\n",
    "\n",
    "train_data_COCO = pd.DataFrame(train_data_prearranged,columns=['image_id','category_id','bbox'])\n",
    "train_data_COCO['image_id'] = train_data_COCO['image_id'].astype('str')+'.jpg'\n",
    "\n",
    "train_data_COCO.astype({'image_id':'str','category_id':'str'})\n",
    "# If you want to split into  arrays\n",
    "bbox_list = train_data_COCO['bbox'].to_list()\n",
    "\n",
    "\n",
    "\n",
    "\n",
    "\n"
   ]
  },
  {
   "cell_type": "code",
   "execution_count": 9,
   "metadata": {},
   "outputs": [
    {
     "output_type": "stream",
     "name": "stdout",
     "text": "[704, 620, 1401, 1645]\n"
    }
   ],
   "source": [
    "print(bbox_list[0])\n",
    "i = 0\n",
    "# bbox_string = []\n",
    "columns = [[],[],[],[],[]]\n",
    "train_data_annot = pd.DataFrame(train_data_COCO,columns=['image_id'])\n",
    "for bbox in bbox_list:\n",
    "    # bbox.append()\n",
    "    if(type(bbox[0] is float)):\n",
    "        bbox = list(map(int, bbox))\n",
    "    bbox[2] = bbox[0] + bbox[2]\n",
    "    bbox[3] = bbox[1] + bbox[3]\n",
    "    columns[0].append(bbox[0])\n",
    "    columns[1].append(bbox[1])\n",
    "    columns[2].append(bbox[2])\n",
    "    columns[3].append(bbox[3])\n",
    "    columns[4].append(train_data_COCO['category_id'][i])\n",
    "    # bbox_string.append(','.join(str(x) for x in bbox)+','+(train_data_COCO['category_id'][i]-1).astype('str'))\n",
    "\n",
    "    i += 1\n",
    "train_data_annot['x_min'] = columns[0]\n",
    "train_data_annot['y_min'] = columns[1]\n",
    "train_data_annot['x_max'] = columns[2]\n",
    "train_data_annot['y_max'] = columns[3]\n",
    "train_data_annot['class'] = columns[4]\n",
    "\n",
    "# print(bbox_string[13312])\n"
   ]
  },
  {
   "cell_type": "code",
   "execution_count": 13,
   "metadata": {},
   "outputs": [
    {
     "output_type": "execute_result",
     "data": {
      "text/plain": "                            image_id  x_min  y_min  x_max  y_max  class\n0         ../data/train/train/10.jpg    704    620   2105   2265      4\n1       ../data/train/train/1000.jpg    321    332    538    589      1\n2      ../data/train/train/10003.jpg    220    758    408    849      2\n3      ../data/train/train/10003.jpg    150    397    447    794      5\n4      ../data/train/train/10003.jpg     85    207    560    430      1\n...                              ...    ...    ...    ...    ...    ...\n13312   ../data/train/train/3163.jpg    147    192    370    457      1\n13313  ../data/train/train/11870.jpg    465    429   1616   1663      1\n13314  ../data/train/train/10864.jpg    431    746   1924   1936      1\n13315   ../data/train/train/6353.jpg    260    405    662    696      1\n13316  ../data/train/train/15656.jpg    483    663   1103   1382      1\n\n[13317 rows x 6 columns]",
      "text/html": "<div>\n<style scoped>\n    .dataframe tbody tr th:only-of-type {\n        vertical-align: middle;\n    }\n\n    .dataframe tbody tr th {\n        vertical-align: top;\n    }\n\n    .dataframe thead th {\n        text-align: right;\n    }\n</style>\n<table border=\"1\" class=\"dataframe\">\n  <thead>\n    <tr style=\"text-align: right;\">\n      <th></th>\n      <th>image_id</th>\n      <th>x_min</th>\n      <th>y_min</th>\n      <th>x_max</th>\n      <th>y_max</th>\n      <th>class</th>\n    </tr>\n  </thead>\n  <tbody>\n    <tr>\n      <th>0</th>\n      <td>../data/train/train/10.jpg</td>\n      <td>704</td>\n      <td>620</td>\n      <td>2105</td>\n      <td>2265</td>\n      <td>4</td>\n    </tr>\n    <tr>\n      <th>1</th>\n      <td>../data/train/train/1000.jpg</td>\n      <td>321</td>\n      <td>332</td>\n      <td>538</td>\n      <td>589</td>\n      <td>1</td>\n    </tr>\n    <tr>\n      <th>2</th>\n      <td>../data/train/train/10003.jpg</td>\n      <td>220</td>\n      <td>758</td>\n      <td>408</td>\n      <td>849</td>\n      <td>2</td>\n    </tr>\n    <tr>\n      <th>3</th>\n      <td>../data/train/train/10003.jpg</td>\n      <td>150</td>\n      <td>397</td>\n      <td>447</td>\n      <td>794</td>\n      <td>5</td>\n    </tr>\n    <tr>\n      <th>4</th>\n      <td>../data/train/train/10003.jpg</td>\n      <td>85</td>\n      <td>207</td>\n      <td>560</td>\n      <td>430</td>\n      <td>1</td>\n    </tr>\n    <tr>\n      <th>...</th>\n      <td>...</td>\n      <td>...</td>\n      <td>...</td>\n      <td>...</td>\n      <td>...</td>\n      <td>...</td>\n    </tr>\n    <tr>\n      <th>13312</th>\n      <td>../data/train/train/3163.jpg</td>\n      <td>147</td>\n      <td>192</td>\n      <td>370</td>\n      <td>457</td>\n      <td>1</td>\n    </tr>\n    <tr>\n      <th>13313</th>\n      <td>../data/train/train/11870.jpg</td>\n      <td>465</td>\n      <td>429</td>\n      <td>1616</td>\n      <td>1663</td>\n      <td>1</td>\n    </tr>\n    <tr>\n      <th>13314</th>\n      <td>../data/train/train/10864.jpg</td>\n      <td>431</td>\n      <td>746</td>\n      <td>1924</td>\n      <td>1936</td>\n      <td>1</td>\n    </tr>\n    <tr>\n      <th>13315</th>\n      <td>../data/train/train/6353.jpg</td>\n      <td>260</td>\n      <td>405</td>\n      <td>662</td>\n      <td>696</td>\n      <td>1</td>\n    </tr>\n    <tr>\n      <th>13316</th>\n      <td>../data/train/train/15656.jpg</td>\n      <td>483</td>\n      <td>663</td>\n      <td>1103</td>\n      <td>1382</td>\n      <td>1</td>\n    </tr>\n  </tbody>\n</table>\n<p>13317 rows × 6 columns</p>\n</div>"
     },
     "metadata": {},
     "execution_count": 13
    }
   ],
   "source": [
    "# train_data_COCO['bbox+cat'] = bbox_string\n",
    "\n",
    "# train_data_annot = pd.DataFrame(train_data_COCO, columns=['image_id'])\n",
    "# train_data_annot['bbox+cat'] = bbox_string\n",
    "train_data_annot['image_id'] = '../data/train/train/'+train_data_annot['image_id']\n",
    "train_data_annot"
   ]
  },
  {
   "cell_type": "code",
   "execution_count": 15,
   "metadata": {},
   "outputs": [],
   "source": [
    "\n",
    "train_data_annot.to_csv('test_annot.csv',sep=',',index=False,header=False)"
   ]
  },
  {
   "cell_type": "code",
   "execution_count": 15,
   "metadata": {
    "tags": [
     "outputPrepend"
    ]
   },
   "outputs": [
    {
     "output_type": "error",
     "ename": "NameError",
     "evalue": "name 'combined_list' is not defined",
     "traceback": [
      "\u001b[0;31m---------------------------------------------------------------------------\u001b[0m",
      "\u001b[0;31mNameError\u001b[0m                                 Traceback (most recent call last)",
      "\u001b[0;32m<ipython-input-15-c635dadf8d5a>\u001b[0m in \u001b[0;36m<module>\u001b[0;34m\u001b[0m\n\u001b[1;32m      2\u001b[0m \u001b[0;34m\u001b[0m\u001b[0m\n\u001b[1;32m      3\u001b[0m \u001b[0mtrain_file\u001b[0m \u001b[0;34m=\u001b[0m \u001b[0mopen\u001b[0m\u001b[0;34m(\u001b[0m\u001b[0;34m'train_new.txt'\u001b[0m\u001b[0;34m,\u001b[0m\u001b[0;34m'w'\u001b[0m\u001b[0;34m)\u001b[0m\u001b[0;34m\u001b[0m\u001b[0;34m\u001b[0m\u001b[0m\n\u001b[0;32m----> 4\u001b[0;31m \u001b[0mtrain_file\u001b[0m\u001b[0;34m.\u001b[0m\u001b[0mwrite\u001b[0m\u001b[0;34m(\u001b[0m\u001b[0;34m'\\n'\u001b[0m\u001b[0;34m.\u001b[0m\u001b[0mjoin\u001b[0m\u001b[0;34m(\u001b[0m\u001b[0mstr\u001b[0m\u001b[0;34m(\u001b[0m\u001b[0mx\u001b[0m\u001b[0;34m)\u001b[0m \u001b[0;32mfor\u001b[0m \u001b[0mx\u001b[0m \u001b[0;32min\u001b[0m \u001b[0mcombined_list\u001b[0m\u001b[0;34m)\u001b[0m\u001b[0;34m)\u001b[0m\u001b[0;34m\u001b[0m\u001b[0;34m\u001b[0m\u001b[0m\n\u001b[0m\u001b[1;32m      5\u001b[0m \u001b[0mtrain_file\u001b[0m\u001b[0;34m.\u001b[0m\u001b[0mclose\u001b[0m\u001b[0;34m(\u001b[0m\u001b[0;34m)\u001b[0m\u001b[0;34m\u001b[0m\u001b[0;34m\u001b[0m\u001b[0m\n",
      "\u001b[0;31mNameError\u001b[0m: name 'combined_list' is not defined"
     ]
    }
   ],
   "source": [
    "# # print('\\n'.join(str(x) for x in combined_list))\n",
    "\n",
    "# train_file = open('train_new.txt','w')\n",
    "# train_file.write('\\n'.join(str(x) for x in combined_list))\n",
    "# train_file.close()\n"
   ]
  },
  {
   "cell_type": "code",
   "execution_count": 14,
   "metadata": {},
   "outputs": [
    {
     "output_type": "error",
     "ename": "NameError",
     "evalue": "name 'train_data_annot' is not defined",
     "traceback": [
      "\u001b[0;31m---------------------------------------------------------------------------\u001b[0m",
      "\u001b[0;31mNameError\u001b[0m                                 Traceback (most recent call last)",
      "\u001b[0;32m<ipython-input-14-e6ea505620a8>\u001b[0m in \u001b[0;36m<module>\u001b[0;34m\u001b[0m\n\u001b[1;32m      1\u001b[0m \u001b[0;31m# train_data_grouped = train_data_COCO.groupby(['image_id']).agg({'category_id':','.join,'bbox':'sum'})\u001b[0m\u001b[0;34m\u001b[0m\u001b[0;34m\u001b[0m\u001b[0;34m\u001b[0m\u001b[0m\n\u001b[0;32m----> 2\u001b[0;31m \u001b[0mtrain_data_grouped\u001b[0m \u001b[0;34m=\u001b[0m \u001b[0mtrain_data_annot\u001b[0m\u001b[0;34m.\u001b[0m\u001b[0mgroupby\u001b[0m\u001b[0;34m(\u001b[0m\u001b[0;34m[\u001b[0m\u001b[0;34m'image_id'\u001b[0m\u001b[0;34m]\u001b[0m\u001b[0;34m,\u001b[0m\u001b[0mas_index\u001b[0m\u001b[0;34m=\u001b[0m\u001b[0;32mFalse\u001b[0m\u001b[0;34m)\u001b[0m\u001b[0;34m.\u001b[0m\u001b[0magg\u001b[0m\u001b[0;34m(\u001b[0m\u001b[0;34m{\u001b[0m\u001b[0;34m'bbox+cat'\u001b[0m\u001b[0;34m:\u001b[0m\u001b[0;34m' '\u001b[0m\u001b[0;34m.\u001b[0m\u001b[0mjoin\u001b[0m\u001b[0;34m}\u001b[0m\u001b[0;34m)\u001b[0m\u001b[0;34m\u001b[0m\u001b[0;34m\u001b[0m\u001b[0m\n\u001b[0m\u001b[1;32m      3\u001b[0m \u001b[0;34m\u001b[0m\u001b[0m\n\u001b[1;32m      4\u001b[0m \u001b[0;34m\u001b[0m\u001b[0m\n\u001b[1;32m      5\u001b[0m \u001b[0mtrain_data_grouped\u001b[0m\u001b[0;34m[\u001b[0m\u001b[0;34m'image_id'\u001b[0m\u001b[0;34m]\u001b[0m \u001b[0;34m=\u001b[0m \u001b[0;34m'../data/train/train/'\u001b[0m \u001b[0;34m+\u001b[0m \u001b[0mtrain_data_grouped\u001b[0m\u001b[0;34m[\u001b[0m\u001b[0;34m'image_id'\u001b[0m\u001b[0;34m]\u001b[0m\u001b[0;34m\u001b[0m\u001b[0;34m\u001b[0m\u001b[0m\n",
      "\u001b[0;31mNameError\u001b[0m: name 'train_data_annot' is not defined"
     ]
    }
   ],
   "source": [
    "# # train_data_grouped = train_data_COCO.groupby(['image_id']).agg({'category_id':','.join,'bbox':'sum'})\n",
    "# train_data_grouped = train_data_annot.groupby(['image_id'],as_index=False).agg({'bbox+cat':' '.join})\n",
    "\n",
    "\n",
    "# train_data_grouped['image_id'] = '../data/train/train/' + train_data_grouped['image_id']\n",
    "\n",
    "# id_list = train_data_grouped['image_id'].to_list()\n",
    "# bbox_list = train_data_grouped['bbox+cat'].to_list()\n",
    "# i = 0\n",
    "# combined_list = []\n",
    "# for id in id_list:\n",
    "#     ' '.join([id,bbox_list[i]])\n",
    "#     combined_list.append(' '.join([id,bbox_list[i]]))\n",
    "#     i +=1\n",
    "\n",
    "# print(combined_list[3])\n",
    "\n",
    "# train_data_grouped[]\n",
    "\n",
    "# col2\n",
    "# train_data_grouped['combined'] = train_data_grouped['image_id'] + ' ' + train_data_grouped['bbox+cat']\n",
    "# train_data_grouped['combined'].to_csv('train.txt',index=False, quoting=csv.QUOTE_NONE, escapechar=' ')\n",
    "# print(train_data_grouped['bbox+cat'].to_list()[3])\n",
    "# train_data_grouped['combined'].to_string('train.txt',index=False)\n",
    "# train_data_grouped.to_csv('train.txt',sep=' ', float_format=str, index=False)\n",
    "# train_data_grouped.to_string('train.txt',index=False, max_colwidth=1)\n",
    "# train_data_grouped.to_pickle('train.txt',protocol=-1)"
   ]
  }
 ],
 "metadata": {
  "language_info": {
   "codemirror_mode": {
    "name": "ipython",
    "version": 3
   },
   "file_extension": ".py",
   "mimetype": "text/x-python",
   "name": "python",
   "nbconvert_exporter": "python",
   "pygments_lexer": "ipython3",
   "version": "3.8.0-final"
  },
  "orig_nbformat": 2,
  "kernelspec": {
   "name": "python38064bitkerasretinanetpipenv1f6a2c3f8e9e43b0a3553e8cf250df23",
   "display_name": "Python 3.8.0 64-bit ('keras-retinanet': pipenv)"
  }
 },
 "nbformat": 4,
 "nbformat_minor": 2
}